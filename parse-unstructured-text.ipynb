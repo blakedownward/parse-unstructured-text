{
 "cells": [
  {
   "cell_type": "markdown",
   "id": "17ae411d-7fef-4845-b8bd-d78b4c634d18",
   "metadata": {},
   "source": [
    "## Parsing semi-structured text"
   ]
  },
  {
   "cell_type": "markdown",
   "id": "902e5fb1-3a07-45b3-8819-32bae6418f09",
   "metadata": {},
   "source": [
    "The goal of this task is to extract relevant information from emergency services dispatch messages so they can be analysed for trends.\n",
    "\n",
    "[Cfsscan.com](https://www.cfsscan.com/livefeed) publishes emergency service messages in near real time, along with a timestamp, message id and an agency identifier. Hundreds of messages are published each day, so extracting by hand is not feasible. Screenshot below shows how these messages are published on the website.\n",
    "\n",
    "![CFS Scan Live-feed](../cfsscan-livefeed.png)\n",
    "\n",
    "Messages are \"semi-structured\" in terms that they do not have a fixed length or structure. The challenge here is to identify what information is consistently available for analysis.\n",
    "\n",
    "The screenshot below illustrates the transformation we are aiming to achieve. Semi-structured text messages on the left are programatically parsed to generate the five feature columns on the right."
   ]
  },
  {
   "cell_type": "markdown",
   "id": "646d9420-82a7-4068-b615-007223afa5f1",
   "metadata": {},
   "source": [
    "![Extracted features](../transform-unstructured-text.png)"
   ]
  },
  {
   "cell_type": "markdown",
   "id": "ea251ecb-059d-4524-ad5b-807826fc5962",
   "metadata": {},
   "source": [
    "### Import libraries and sample messages"
   ]
  },
  {
   "cell_type": "code",
   "execution_count": 6,
   "id": "60ad6969-3961-4d92-a865-7b9c685be999",
   "metadata": {},
   "outputs": [],
   "source": [
    "import re\n",
    "from collections import Counter\n",
    "import pandas as pd"
   ]
  },
  {
   "cell_type": "code",
   "execution_count": 7,
   "id": "3e278c73-12ea-4982-b6a9-3b7a2a2de990",
   "metadata": {},
   "outputs": [
    {
     "data": {
      "text/plain": [
       "(100, 4)"
      ]
     },
     "execution_count": 7,
     "metadata": {},
     "output_type": "execute_result"
    }
   ],
   "source": [
    "# import the first 100 rows\n",
    "df = pd.read_csv('sample_messages.csv', nrows=100)\n",
    "df.shape"
   ]
  },
  {
   "cell_type": "code",
   "execution_count": 8,
   "id": "fd8f0840-6852-478e-9d49-9f950c5e2f02",
   "metadata": {},
   "outputs": [
    {
     "data": {
      "text/html": [
       "<div>\n",
       "<style scoped>\n",
       "    .dataframe tbody tr th:only-of-type {\n",
       "        vertical-align: middle;\n",
       "    }\n",
       "\n",
       "    .dataframe tbody tr th {\n",
       "        vertical-align: top;\n",
       "    }\n",
       "\n",
       "    .dataframe thead th {\n",
       "        text-align: right;\n",
       "    }\n",
       "</style>\n",
       "<table border=\"1\" class=\"dataframe\">\n",
       "  <thead>\n",
       "    <tr style=\"text-align: right;\">\n",
       "      <th></th>\n",
       "      <th>date time</th>\n",
       "      <th>message id</th>\n",
       "      <th>agency</th>\n",
       "      <th>message</th>\n",
       "    </tr>\n",
       "  </thead>\n",
       "  <tbody>\n",
       "    <tr>\n",
       "      <th>0</th>\n",
       "      <td>02-08-2024 08_41_38</td>\n",
       "      <td>7012498</td>\n",
       "      <td>30</td>\n",
       "      <td>OAK82 PR: 2 - : @ST AGNES SHOPPING CENTRE ST A...</td>\n",
       "    </tr>\n",
       "    <tr>\n",
       "      <th>1</th>\n",
       "      <td>02-08-2024 08_41_12</td>\n",
       "      <td>7012496</td>\n",
       "      <td>10</td>\n",
       "      <td>MFS: ADDITIONAL INFO FOR INC024 - FROM STAFF O...</td>\n",
       "    </tr>\n",
       "    <tr>\n",
       "      <th>2</th>\n",
       "      <td>02-08-2024 08_41_11</td>\n",
       "      <td>7012495</td>\n",
       "      <td>10</td>\n",
       "      <td>MFS: ADDITIONAL INFO FOR INC024 - FROM STAFF O...</td>\n",
       "    </tr>\n",
       "    <tr>\n",
       "      <th>3</th>\n",
       "      <td>02-08-2024 08_41_09</td>\n",
       "      <td>7012494</td>\n",
       "      <td>10</td>\n",
       "      <td>MFS: ADDITIONAL INFO FOR INC024 - FROM STAFF O...</td>\n",
       "    </tr>\n",
       "    <tr>\n",
       "      <th>4</th>\n",
       "      <td>02-08-2024 08_41_00</td>\n",
       "      <td>7012493</td>\n",
       "      <td>30</td>\n",
       "      <td>GX77 PR: 7 - : @RAH: FVA ETD 1100 ADELAIDE 3 G...</td>\n",
       "    </tr>\n",
       "  </tbody>\n",
       "</table>\n",
       "</div>"
      ],
      "text/plain": [
       "             date time  message id  agency  \\\n",
       "0  02-08-2024 08_41_38     7012498      30   \n",
       "1  02-08-2024 08_41_12     7012496      10   \n",
       "2  02-08-2024 08_41_11     7012495      10   \n",
       "3  02-08-2024 08_41_09     7012494      10   \n",
       "4  02-08-2024 08_41_00     7012493      30   \n",
       "\n",
       "                                             message  \n",
       "0  OAK82 PR: 2 - : @ST AGNES SHOPPING CENTRE ST A...  \n",
       "1  MFS: ADDITIONAL INFO FOR INC024 - FROM STAFF O...  \n",
       "2  MFS: ADDITIONAL INFO FOR INC024 - FROM STAFF O...  \n",
       "3  MFS: ADDITIONAL INFO FOR INC024 - FROM STAFF O...  \n",
       "4  GX77 PR: 7 - : @RAH: FVA ETD 1100 ADELAIDE 3 G...  "
      ]
     },
     "execution_count": 8,
     "metadata": {},
     "output_type": "execute_result"
    }
   ],
   "source": [
    "# take a look at the data\n",
    "df.head()"
   ]
  },
  {
   "cell_type": "code",
   "execution_count": 9,
   "id": "e0f31683-c205-4c7d-b10c-4fe821741f75",
   "metadata": {},
   "outputs": [
    {
     "name": "stdout",
     "output_type": "stream",
     "text": [
      "<class 'pandas.core.frame.DataFrame'>\n",
      "RangeIndex: 100 entries, 0 to 99\n",
      "Data columns (total 4 columns):\n",
      " #   Column      Non-Null Count  Dtype \n",
      "---  ------      --------------  ----- \n",
      " 0   date time   100 non-null    object\n",
      " 1   message id  100 non-null    int64 \n",
      " 2   agency      100 non-null    int64 \n",
      " 3   message     100 non-null    object\n",
      "dtypes: int64(2), object(2)\n",
      "memory usage: 3.2+ KB\n"
     ]
    }
   ],
   "source": [
    "# check dtypes, column names and null values\n",
    "df.info()"
   ]
  },
  {
   "cell_type": "markdown",
   "id": "1f2b3215-3396-4bf6-8a7f-844f67519831",
   "metadata": {},
   "source": [
    "### TODO:\n",
    "- filter the data to only messages from the \"agency\" with an id of \"30\" (Ambulance Service)\n",
    "- reformat the \"date time\" column to datetime dtype\n",
    "- rename the \"message id\" column to just \"id\"\n",
    "- inspect a sample of messages and determine what info can be extracted"
   ]
  },
  {
   "cell_type": "code",
   "execution_count": 11,
   "id": "a8f95b47-aea8-4049-9c8f-0a770ee0a06a",
   "metadata": {},
   "outputs": [],
   "source": [
    "# filter results to only agency \"30\"\n",
    "df = df[df['agency'] == 30]\n",
    "\n",
    "# reformat the date time column\n",
    "df['datetime'] = pd.to_datetime(df['date time'], format=\"%d-%m-%Y %H_%M_%S\")\n",
    "\n",
    "# rename the message id column\n",
    "df = df.rename(columns={'message id': 'id'})\n",
    "\n",
    "# tidy the columns, drop \"agency\" as it's no longer required.\n",
    "df = df[['id', 'datetime', 'message']]"
   ]
  },
  {
   "cell_type": "code",
   "execution_count": 12,
   "id": "427cc316-9b8b-43dd-86c8-747bf0dc8696",
   "metadata": {},
   "outputs": [
    {
     "data": {
      "text/html": [
       "<div>\n",
       "<style scoped>\n",
       "    .dataframe tbody tr th:only-of-type {\n",
       "        vertical-align: middle;\n",
       "    }\n",
       "\n",
       "    .dataframe tbody tr th {\n",
       "        vertical-align: top;\n",
       "    }\n",
       "\n",
       "    .dataframe thead th {\n",
       "        text-align: right;\n",
       "    }\n",
       "</style>\n",
       "<table border=\"1\" class=\"dataframe\">\n",
       "  <thead>\n",
       "    <tr style=\"text-align: right;\">\n",
       "      <th></th>\n",
       "      <th>id</th>\n",
       "      <th>datetime</th>\n",
       "      <th>message</th>\n",
       "    </tr>\n",
       "  </thead>\n",
       "  <tbody>\n",
       "    <tr>\n",
       "      <th>0</th>\n",
       "      <td>7012498</td>\n",
       "      <td>2024-08-02 08:41:38</td>\n",
       "      <td>OAK82 PR: 2 - : @ST AGNES SHOPPING CENTRE ST A...</td>\n",
       "    </tr>\n",
       "    <tr>\n",
       "      <th>4</th>\n",
       "      <td>7012493</td>\n",
       "      <td>2024-08-02 08:41:00</td>\n",
       "      <td>GX77 PR: 7 - : @RAH: FVA ETD 1100 ADELAIDE 3 G...</td>\n",
       "    </tr>\n",
       "    <tr>\n",
       "      <th>5</th>\n",
       "      <td>7012492</td>\n",
       "      <td>2024-08-02 08:40:02</td>\n",
       "      <td>WK71 PR: 2 - WAIKERIE D00346 Disp: 08:39 Chest...</td>\n",
       "    </tr>\n",
       "    <tr>\n",
       "      <th>6</th>\n",
       "      <td>7012489</td>\n",
       "      <td>2024-08-02 08:40:02</td>\n",
       "      <td>WK71 PR: 2 - WAIKERIE D00346 Disp: 08:39 Chest...</td>\n",
       "    </tr>\n",
       "    <tr>\n",
       "      <th>11</th>\n",
       "      <td>7012482</td>\n",
       "      <td>2024-08-02 08:34:02</td>\n",
       "      <td>MV62 Crew Welfare Check URGMSG</td>\n",
       "    </tr>\n",
       "  </tbody>\n",
       "</table>\n",
       "</div>"
      ],
      "text/plain": [
       "         id            datetime  \\\n",
       "0   7012498 2024-08-02 08:41:38   \n",
       "4   7012493 2024-08-02 08:41:00   \n",
       "5   7012492 2024-08-02 08:40:02   \n",
       "6   7012489 2024-08-02 08:40:02   \n",
       "11  7012482 2024-08-02 08:34:02   \n",
       "\n",
       "                                              message  \n",
       "0   OAK82 PR: 2 - : @ST AGNES SHOPPING CENTRE ST A...  \n",
       "4   GX77 PR: 7 - : @RAH: FVA ETD 1100 ADELAIDE 3 G...  \n",
       "5   WK71 PR: 2 - WAIKERIE D00346 Disp: 08:39 Chest...  \n",
       "6   WK71 PR: 2 - WAIKERIE D00346 Disp: 08:39 Chest...  \n",
       "11                     MV62 Crew Welfare Check URGMSG  "
      ]
     },
     "execution_count": 12,
     "metadata": {},
     "output_type": "execute_result"
    }
   ],
   "source": [
    "# check the results are as expected\n",
    "df.head()"
   ]
  },
  {
   "cell_type": "code",
   "execution_count": null,
   "id": "5a7326bc-e1c0-449e-afc0-c7b4e9bd73f1",
   "metadata": {},
   "outputs": [],
   "source": []
  },
  {
   "cell_type": "markdown",
   "id": "fe0a0238-6286-41f8-97e0-7f863688fe4e",
   "metadata": {},
   "source": [
    "### Inspect the messages, identify patterns"
   ]
  },
  {
   "cell_type": "code",
   "execution_count": 14,
   "id": "2118c738-4dd6-4834-8c0e-6f1118c0c57f",
   "metadata": {},
   "outputs": [
    {
     "name": "stdout",
     "output_type": "stream",
     "text": [
      "OAK82 PR: 2 - : @ST AGNES SHOPPING CENTRE ST AGNES 85 C 12 D00352 Disp: 08:41 Unconsciou\n",
      "GX77 PR: 7 - : @RAH: FVA ETD 1100 ADELAIDE 3 G 1 D00348 Disp: 08:40 TRANSFER\n",
      "WK71 PR: 2 - WAIKERIE D00346 Disp: 08:39 Chest Pain\n",
      "WK71 PR: 2 - WAIKERIE D00346 Disp: 08:39 Chest Pain\n",
      "MV62 Crew Welfare Check URGMSG\n"
     ]
    }
   ],
   "source": [
    "# print the first five messages in full and look for patterns\n",
    "for msg in df['message'][:5]:\n",
    "    print(msg)"
   ]
  },
  {
   "cell_type": "markdown",
   "id": "4b436467-d891-41b3-9f2c-6819e1913b27",
   "metadata": {},
   "source": [
    "---"
   ]
  },
  {
   "cell_type": "markdown",
   "id": "61b27f74-7273-4108-8502-9ebe9bacd8bb",
   "metadata": {},
   "source": [
    "__Upon closer inspection of the above messages, a few patterns begin to emerge...__\n",
    "\n",
    "1) Every message starts with a 4 or 5 digit alpha-numeric code (\"OAK82\", \"GX77\", \"WK71\"). Seems like this could be the __\"unit\"__ being dispatched to the job.\n",
    "2) Most messages include a reference to \"PR:\" followed by a number. This is likely to be a reference to __\"priority\"__, which is an important feature for analysis.\n",
    "3) Most messages seem to reference a __suburb or location__ for the job (eg \"ST AGNES\", \"ADELAIDE\", \"WAIKERIE\"), another important feature for analysis.\n",
    "4) All messages which include a reference to \"priority\"/\"PR\", seem to end with a __description__ of the job (eg \"Unconsciou[s]\", \"TRANSFER\", \"Chest Pain\")\n",
    "5) Messages without a reference to \"priority\"/\"PR\" don't seem to be related to a specific job.\n",
    "6) Messages with an \"@\" symbol seem to be public places or buildings\n",
    "7) Alternatively, messages without the \"@\" symbol seem likely to be for __private/residential__ addresses."
   ]
  },
  {
   "cell_type": "markdown",
   "id": "b25fd63f-f5be-4657-8479-3d49de04b053",
   "metadata": {},
   "source": [
    "---\n",
    "\n",
    "### TODO:\n",
    "- Check assumption about point 5 above - filter out if it holds true\n",
    "- Extract the \"unit\" identifier.\n",
    "- Extract the \"priority\" level.\n",
    "- Extract the job \"description\"\n",
    "- Indicate if job \"location\" is a residential or public place\n",
    "- Extract the job \"location\" (suburb)"
   ]
  },
  {
   "cell_type": "code",
   "execution_count": 18,
   "id": "a5ad3ee0-bc12-4b94-b7f5-b128ed8d8da0",
   "metadata": {},
   "outputs": [
    {
     "data": {
      "text/html": [
       "<div>\n",
       "<style scoped>\n",
       "    .dataframe tbody tr th:only-of-type {\n",
       "        vertical-align: middle;\n",
       "    }\n",
       "\n",
       "    .dataframe tbody tr th {\n",
       "        vertical-align: top;\n",
       "    }\n",
       "\n",
       "    .dataframe thead th {\n",
       "        text-align: right;\n",
       "    }\n",
       "</style>\n",
       "<table border=\"1\" class=\"dataframe\">\n",
       "  <thead>\n",
       "    <tr style=\"text-align: right;\">\n",
       "      <th></th>\n",
       "      <th>id</th>\n",
       "      <th>datetime</th>\n",
       "      <th>message</th>\n",
       "    </tr>\n",
       "  </thead>\n",
       "  <tbody>\n",
       "    <tr>\n",
       "      <th>11</th>\n",
       "      <td>7012482</td>\n",
       "      <td>2024-08-02 08:34:02</td>\n",
       "      <td>MV62 Crew Welfare Check URGMSG</td>\n",
       "    </tr>\n",
       "    <tr>\n",
       "      <th>28</th>\n",
       "      <td>7012461</td>\n",
       "      <td>2024-08-02 08:23:23</td>\n",
       "      <td>Please call CSDNO</td>\n",
       "    </tr>\n",
       "    <tr>\n",
       "      <th>29</th>\n",
       "      <td>7012460</td>\n",
       "      <td>2024-08-02 08:22:47</td>\n",
       "      <td>SEA63 Crew Welfare Check URGMSG</td>\n",
       "    </tr>\n",
       "    <tr>\n",
       "      <th>31</th>\n",
       "      <td>7012458</td>\n",
       "      <td>2024-08-02 08:20:17</td>\n",
       "      <td>HEAD TO EW TO PICK UP YOUR PARTNER</td>\n",
       "    </tr>\n",
       "    <tr>\n",
       "      <th>32</th>\n",
       "      <td>7012456</td>\n",
       "      <td>2024-08-02 08:14:23</td>\n",
       "      <td>CAN YOU PLEASE TRACK TO PARAFIELD FOR STANDBY-...</td>\n",
       "    </tr>\n",
       "    <tr>\n",
       "      <th>34</th>\n",
       "      <td>7012454</td>\n",
       "      <td>2024-08-02 08:13:15</td>\n",
       "      <td>CAN YOU PLEASE TRACK TO REDWOOD PARK FOR STAND...</td>\n",
       "    </tr>\n",
       "    <tr>\n",
       "      <th>51</th>\n",
       "      <td>7012436</td>\n",
       "      <td>2024-08-02 07:53:45</td>\n",
       "      <td>CREW P2 FROM LOCKLEYS AREA</td>\n",
       "    </tr>\n",
       "  </tbody>\n",
       "</table>\n",
       "</div>"
      ],
      "text/plain": [
       "         id            datetime  \\\n",
       "11  7012482 2024-08-02 08:34:02   \n",
       "28  7012461 2024-08-02 08:23:23   \n",
       "29  7012460 2024-08-02 08:22:47   \n",
       "31  7012458 2024-08-02 08:20:17   \n",
       "32  7012456 2024-08-02 08:14:23   \n",
       "34  7012454 2024-08-02 08:13:15   \n",
       "51  7012436 2024-08-02 07:53:45   \n",
       "\n",
       "                                              message  \n",
       "11                     MV62 Crew Welfare Check URGMSG  \n",
       "28                                  Please call CSDNO  \n",
       "29                    SEA63 Crew Welfare Check URGMSG  \n",
       "31                 HEAD TO EW TO PICK UP YOUR PARTNER  \n",
       "32  CAN YOU PLEASE TRACK TO PARAFIELD FOR STANDBY-...  \n",
       "34  CAN YOU PLEASE TRACK TO REDWOOD PARK FOR STAND...  \n",
       "51                         CREW P2 FROM LOCKLEYS AREA  "
      ]
     },
     "execution_count": 18,
     "metadata": {},
     "output_type": "execute_result"
    }
   ],
   "source": [
    "# filter the dataframe to only those messages which don't include \"PR:\" - can we drop these records? Yes.\n",
    "non_pr = df[~df['message'].str.contains('PR:')]\n",
    "non_pr"
   ]
  },
  {
   "cell_type": "code",
   "execution_count": 19,
   "id": "c8c56c7e-0652-4c15-86e7-08530fc6e967",
   "metadata": {},
   "outputs": [],
   "source": [
    "# assumption from point 5 holds true, these are non-job related messages and can be safely dropped\n",
    "df = df[df['message'].str.contains('PR:')].reset_index(drop=True)\n",
    "\n",
    "# extract the \"unit\" identifier\n",
    "df['unit'] = df['message'].apply(lambda x: x.split(' ')[0])\n",
    "\n",
    "# extract the \"priority\" level\n",
    "df['priority'] = df['message'].apply(lambda x: x.split('-')[0].split('PR:')[-1].strip())\n",
    "\n",
    "# residential or public \"location\" boolean\n",
    "df['residential'] = ~df['message'].str.contains('@')\n",
    "\n",
    "# extract the job \"description\" (find the \"dispatch time\" and extract the text that follows)\n",
    "df['description'] = df['message'].str.split(r'\\b\\d\\d:\\d\\d\\b', regex=True).apply(lambda x: x[-1])\n"
   ]
  },
  {
   "cell_type": "markdown",
   "id": "f35ac389-1cba-45b0-b760-69fbfe544813",
   "metadata": {},
   "source": [
    "### Extract job location from message\n",
    "\n",
    "The final step is to determine what suburb/town is mentioned in the message. To do this, we will take a list of South Australian suburbs to match with locations mentioned in the messages.\n",
    "\n",
    "A few things to be careful of here: \n",
    "1) Exact matching the suburb - eg, \"ADELAIDE\" vs \"NORTH ADELAIDE\".\n",
    "2) Punctuation - eg, \"O'HALLORAN HILL\" and \"OHALLORAN HILL\".\n",
    "3) Conflicting locations - In the case where multiple suburbs are matched in a message (only non-residential locations) - the suburb/location with the most matches will be chosen. eg - \"@GLYNDE Aged Care CAMPBELLTOWN - CAMPBELLTOWN\" will be matched with \"CAMPBELLTOWN\""
   ]
  },
  {
   "cell_type": "code",
   "execution_count": 21,
   "id": "cf3bef6c-0822-4d4e-a6ed-caf50737054f",
   "metadata": {},
   "outputs": [],
   "source": [
    "# import the list of South Australian suburbs\n",
    "suburbs = pd.read_csv('SA_suburbs.csv', usecols=['suburb'])['suburb'].tolist()"
   ]
  },
  {
   "cell_type": "code",
   "execution_count": 22,
   "id": "305d4669-54e9-49be-9016-1021b99181b6",
   "metadata": {},
   "outputs": [
    {
     "data": {
      "text/plain": [
       "['MULOORINA', 'MUNDOWDNA', 'MUNGERANIE', 'CROWN POINT', 'ADELAIDE AIRPORT']"
      ]
     },
     "execution_count": 22,
     "metadata": {},
     "output_type": "execute_result"
    }
   ],
   "source": [
    "# check the last few suburbs in the list\n",
    "suburbs[-5:]"
   ]
  },
  {
   "cell_type": "code",
   "execution_count": 23,
   "id": "1c7033e3-30de-4955-bf4b-6c76f6131e0a",
   "metadata": {},
   "outputs": [],
   "source": [
    "# function to account for alternative patterns in punctuation\n",
    "def create_alternative_patterns(suburb):\n",
    "    suburb_escaped = re.escape(suburb)\n",
    "    suburb_no_specials = re.escape(re.sub(r'[^A-Za-z0-9\\s]', '', suburb))\n",
    "    return f'{suburb_escaped}|{suburb_no_specials}'"
   ]
  },
  {
   "cell_type": "code",
   "execution_count": 24,
   "id": "80bd0dca-106e-450f-8d64-358459e9c80e",
   "metadata": {},
   "outputs": [],
   "source": [
    "# Compile the pattern with word boundaries to exact match whole words\n",
    "suburb_pattern = '|'.join(create_alternative_patterns(suburb) for suburb in sorted(suburbs, key=len, reverse=True))\n",
    "\n",
    "suburb_regex = re.compile(r'\\b(' + suburb_pattern + r')\\b', re.IGNORECASE)"
   ]
  },
  {
   "cell_type": "code",
   "execution_count": 25,
   "id": "08b9e51b-a240-4eb6-b1da-f2cbf1b237db",
   "metadata": {},
   "outputs": [],
   "source": [
    "# function to extract/match the suburb from the message\n",
    "def find_suburb(message, suburb_regex):\n",
    "    \n",
    "    matches = suburb_regex.findall(message)\n",
    "    if matches:\n",
    "        # Count occurrences of each matched suburb\n",
    "        match_counts = Counter(matches)\n",
    "        # Return the suburb with the highest count\n",
    "        return match_counts.most_common(1)[0][0]\n",
    "    return None\n",
    "\n",
    "# apply the above function to all messages\n",
    "df['matched_suburb'] = df['message'].apply(find_suburb, suburb_regex=suburb_regex)"
   ]
  },
  {
   "cell_type": "code",
   "execution_count": 26,
   "id": "d76062b6-031a-4012-a680-007a90a9f49d",
   "metadata": {},
   "outputs": [
    {
     "name": "stdout",
     "output_type": "stream",
     "text": [
      "<class 'pandas.core.frame.DataFrame'>\n",
      "RangeIndex: 72 entries, 0 to 71\n",
      "Data columns (total 8 columns):\n",
      " #   Column          Non-Null Count  Dtype         \n",
      "---  ------          --------------  -----         \n",
      " 0   id              72 non-null     int64         \n",
      " 1   datetime        72 non-null     datetime64[ns]\n",
      " 2   message         72 non-null     object        \n",
      " 3   unit            72 non-null     object        \n",
      " 4   priority        72 non-null     object        \n",
      " 5   residential     72 non-null     bool          \n",
      " 6   description     72 non-null     object        \n",
      " 7   matched_suburb  72 non-null     object        \n",
      "dtypes: bool(1), datetime64[ns](1), int64(1), object(5)\n",
      "memory usage: 4.1+ KB\n"
     ]
    }
   ],
   "source": [
    "df.info()"
   ]
  },
  {
   "cell_type": "code",
   "execution_count": 27,
   "id": "61368fa5-eaa0-42c3-941d-81d0aed253d9",
   "metadata": {},
   "outputs": [
    {
     "data": {
      "text/html": [
       "<div>\n",
       "<style scoped>\n",
       "    .dataframe tbody tr th:only-of-type {\n",
       "        vertical-align: middle;\n",
       "    }\n",
       "\n",
       "    .dataframe tbody tr th {\n",
       "        vertical-align: top;\n",
       "    }\n",
       "\n",
       "    .dataframe thead th {\n",
       "        text-align: right;\n",
       "    }\n",
       "</style>\n",
       "<table border=\"1\" class=\"dataframe\">\n",
       "  <thead>\n",
       "    <tr style=\"text-align: right;\">\n",
       "      <th></th>\n",
       "      <th>id</th>\n",
       "      <th>datetime</th>\n",
       "      <th>message</th>\n",
       "      <th>unit</th>\n",
       "      <th>priority</th>\n",
       "      <th>residential</th>\n",
       "      <th>description</th>\n",
       "      <th>matched_suburb</th>\n",
       "    </tr>\n",
       "  </thead>\n",
       "  <tbody>\n",
       "    <tr>\n",
       "      <th>0</th>\n",
       "      <td>7012498</td>\n",
       "      <td>2024-08-02 08:41:38</td>\n",
       "      <td>OAK82 PR: 2 - : @ST AGNES SHOPPING CENTRE ST A...</td>\n",
       "      <td>OAK82</td>\n",
       "      <td>2</td>\n",
       "      <td>False</td>\n",
       "      <td>Unconsciou</td>\n",
       "      <td>ST AGNES</td>\n",
       "    </tr>\n",
       "    <tr>\n",
       "      <th>1</th>\n",
       "      <td>7012493</td>\n",
       "      <td>2024-08-02 08:41:00</td>\n",
       "      <td>GX77 PR: 7 - : @RAH: FVA ETD 1100 ADELAIDE 3 G...</td>\n",
       "      <td>GX77</td>\n",
       "      <td>7</td>\n",
       "      <td>False</td>\n",
       "      <td>TRANSFER</td>\n",
       "      <td>ADELAIDE</td>\n",
       "    </tr>\n",
       "    <tr>\n",
       "      <th>2</th>\n",
       "      <td>7012492</td>\n",
       "      <td>2024-08-02 08:40:02</td>\n",
       "      <td>WK71 PR: 2 - WAIKERIE D00346 Disp: 08:39 Chest...</td>\n",
       "      <td>WK71</td>\n",
       "      <td>2</td>\n",
       "      <td>True</td>\n",
       "      <td>Chest Pain</td>\n",
       "      <td>WAIKERIE</td>\n",
       "    </tr>\n",
       "    <tr>\n",
       "      <th>3</th>\n",
       "      <td>7012489</td>\n",
       "      <td>2024-08-02 08:40:02</td>\n",
       "      <td>WK71 PR: 2 - WAIKERIE D00346 Disp: 08:39 Chest...</td>\n",
       "      <td>WK71</td>\n",
       "      <td>2</td>\n",
       "      <td>True</td>\n",
       "      <td>Chest Pain</td>\n",
       "      <td>WAIKERIE</td>\n",
       "    </tr>\n",
       "    <tr>\n",
       "      <th>4</th>\n",
       "      <td>7012480</td>\n",
       "      <td>2024-08-02 08:31:23</td>\n",
       "      <td>OAK820 PR: 3 - SALISBURY EAST 71 P 9 D00339 Di...</td>\n",
       "      <td>OAK820</td>\n",
       "      <td>3</td>\n",
       "      <td>True</td>\n",
       "      <td>Abdominal</td>\n",
       "      <td>SALISBURY EAST</td>\n",
       "    </tr>\n",
       "  </tbody>\n",
       "</table>\n",
       "</div>"
      ],
      "text/plain": [
       "        id            datetime  \\\n",
       "0  7012498 2024-08-02 08:41:38   \n",
       "1  7012493 2024-08-02 08:41:00   \n",
       "2  7012492 2024-08-02 08:40:02   \n",
       "3  7012489 2024-08-02 08:40:02   \n",
       "4  7012480 2024-08-02 08:31:23   \n",
       "\n",
       "                                             message    unit priority  \\\n",
       "0  OAK82 PR: 2 - : @ST AGNES SHOPPING CENTRE ST A...   OAK82        2   \n",
       "1  GX77 PR: 7 - : @RAH: FVA ETD 1100 ADELAIDE 3 G...    GX77        7   \n",
       "2  WK71 PR: 2 - WAIKERIE D00346 Disp: 08:39 Chest...    WK71        2   \n",
       "3  WK71 PR: 2 - WAIKERIE D00346 Disp: 08:39 Chest...    WK71        2   \n",
       "4  OAK820 PR: 3 - SALISBURY EAST 71 P 9 D00339 Di...  OAK820        3   \n",
       "\n",
       "   residential  description  matched_suburb  \n",
       "0        False   Unconsciou        ST AGNES  \n",
       "1        False     TRANSFER        ADELAIDE  \n",
       "2         True   Chest Pain        WAIKERIE  \n",
       "3         True   Chest Pain        WAIKERIE  \n",
       "4         True    Abdominal  SALISBURY EAST  "
      ]
     },
     "execution_count": 27,
     "metadata": {},
     "output_type": "execute_result"
    }
   ],
   "source": [
    "# take a look at the frame to ensure everything looks good\n",
    "df.head()"
   ]
  },
  {
   "cell_type": "code",
   "execution_count": null,
   "id": "c703fe27-aaf3-4372-80b9-dcf919248384",
   "metadata": {},
   "outputs": [],
   "source": []
  },
  {
   "cell_type": "markdown",
   "id": "70b47c5d-21a8-4dbe-84d0-de4754c90971",
   "metadata": {},
   "source": [
    "### Wrap it all in a single function and test with all 2000 rows"
   ]
  },
  {
   "cell_type": "code",
   "execution_count": 29,
   "id": "152d47ac-25c8-4e2d-8ea2-1fce517454f4",
   "metadata": {},
   "outputs": [],
   "source": [
    "# helper function to account for alternative patterns in suburb punctuation\n",
    "def create_alternative_patterns(suburb):\n",
    "    suburb_escaped = re.escape(suburb)\n",
    "    suburb_no_specials = re.escape(re.sub(r'[^A-Za-z0-9\\s]', '', suburb))\n",
    "    return f'{suburb_escaped}|{suburb_no_specials}'\n",
    "\n",
    "\n",
    "# helper function to extract/match the suburb from the message\n",
    "def find_suburb(message, suburb_regex):\n",
    "    \n",
    "    matches = suburb_regex.findall(message)\n",
    "    if matches:\n",
    "        # Count occurrences of each matched suburb\n",
    "        match_counts = Counter(matches)\n",
    "        # Return the suburb with the highest count\n",
    "        return match_counts.most_common(1)[0][0]\n",
    "    return None\n",
    "\n",
    "# main wrapper function\n",
    "def import_extract_saas_messages(filepath) -> pd.DataFrame:\n",
    "    df = pd.read_csv(filepath)\n",
    "    \n",
    "    # filter results to only agency \"30\" [\"South Australian Ambulance Service/SAAS\"]\n",
    "    df = df[df['agency'] == 30]\n",
    "\n",
    "    # reformat the date time column\n",
    "    df['datetime'] = pd.to_datetime(df['date time'], format=\"%d-%m-%Y %H_%M_%S\")\n",
    "\n",
    "    # rename the message id column\n",
    "    df = df.rename(columns={'message id': 'id'})\n",
    "\n",
    "    # tidy the columns, drop \"agency\" as it's no longer required.\n",
    "    df = df[['id', 'datetime', 'message']]\n",
    "    \n",
    "    # non-job related messages can be safely dropped\n",
    "    df = df[df['message'].str.contains('PR:')].reset_index(drop=True)\n",
    "\n",
    "    # extract the \"unit\" identifier\n",
    "    df['unit'] = df['message'].apply(lambda x: x.split(' ')[0])\n",
    "\n",
    "    # extract the \"priority\" level\n",
    "    df['priority'] = df['message'].apply(lambda x: x.split('-')[0].split('PR:')[-1].strip())\n",
    "\n",
    "    # residential or public \"location\" boolean\n",
    "    df['residential'] = ~df['message'].str.contains('@')\n",
    "\n",
    "    # extract the job \"description\" (find the \"dispatch time\" and extract the text that follows)\n",
    "    df['description'] = df['message'].str.split(r'\\b\\d\\d:\\d\\d\\b', regex=True).apply(lambda x: x[-1])\n",
    "    \n",
    "    # import the list of South Australian suburbs\n",
    "    suburbs = pd.read_csv('SA_suburbs.csv', usecols=['suburb'])['suburb'].tolist()\n",
    "    \n",
    "    # Compile the pattern with word boundaries to exact match whole words\n",
    "    suburb_pattern = '|'.join(create_alternative_patterns(suburb) for suburb in sorted(suburbs, key=len, reverse=True))\n",
    "    suburb_regex = re.compile(r'\\b(' + suburb_pattern + r')\\b', re.IGNORECASE)\n",
    "    \n",
    "    # apply the matching function to all messages\n",
    "    df['matched_suburb'] = df['message'].apply(find_suburb, suburb_regex=suburb_regex)\n",
    "    \n",
    "    return df\n",
    "    "
   ]
  },
  {
   "cell_type": "code",
   "execution_count": null,
   "id": "6605638b-5b32-494f-9a85-739f952148ed",
   "metadata": {},
   "outputs": [],
   "source": []
  },
  {
   "cell_type": "code",
   "execution_count": 30,
   "id": "bf739ca5-6f6d-4f2a-958c-44912af666eb",
   "metadata": {},
   "outputs": [
    {
     "data": {
      "text/html": [
       "<div>\n",
       "<style scoped>\n",
       "    .dataframe tbody tr th:only-of-type {\n",
       "        vertical-align: middle;\n",
       "    }\n",
       "\n",
       "    .dataframe tbody tr th {\n",
       "        vertical-align: top;\n",
       "    }\n",
       "\n",
       "    .dataframe thead th {\n",
       "        text-align: right;\n",
       "    }\n",
       "</style>\n",
       "<table border=\"1\" class=\"dataframe\">\n",
       "  <thead>\n",
       "    <tr style=\"text-align: right;\">\n",
       "      <th></th>\n",
       "      <th>id</th>\n",
       "      <th>datetime</th>\n",
       "      <th>message</th>\n",
       "      <th>unit</th>\n",
       "      <th>priority</th>\n",
       "      <th>residential</th>\n",
       "      <th>description</th>\n",
       "      <th>matched_suburb</th>\n",
       "    </tr>\n",
       "  </thead>\n",
       "  <tbody>\n",
       "    <tr>\n",
       "      <th>1313</th>\n",
       "      <td>7009756</td>\n",
       "      <td>2024-07-31 19:36:00</td>\n",
       "      <td>PFD192 PR: 2 - RIVERLEA PARK 38 K 1 D01261 Dis...</td>\n",
       "      <td>PFD192</td>\n",
       "      <td>2</td>\n",
       "      <td>True</td>\n",
       "      <td>Burns (Sca</td>\n",
       "      <td>RIVERLEA PARK</td>\n",
       "    </tr>\n",
       "    <tr>\n",
       "      <th>1314</th>\n",
       "      <td>7009749</td>\n",
       "      <td>2024-07-31 19:29:40</td>\n",
       "      <td>N182 PR: 3 - : @SAPOL - STURT POLICE STATION: ...</td>\n",
       "      <td>N182</td>\n",
       "      <td>3</td>\n",
       "      <td>False</td>\n",
       "      <td>OTHER EMER</td>\n",
       "      <td>STURT</td>\n",
       "    </tr>\n",
       "    <tr>\n",
       "      <th>1315</th>\n",
       "      <td>7009745</td>\n",
       "      <td>2024-07-31 19:27:38</td>\n",
       "      <td>BE171 PR: 6 - BERRI SBI 1 E 6 D01253 Disp: 19:...</td>\n",
       "      <td>BE171</td>\n",
       "      <td>6</td>\n",
       "      <td>True</td>\n",
       "      <td>Psychiatri</td>\n",
       "      <td>BERRI</td>\n",
       "    </tr>\n",
       "    <tr>\n",
       "      <th>1316</th>\n",
       "      <td>7009741</td>\n",
       "      <td>2024-07-31 19:26:49</td>\n",
       "      <td>G171 PR: 2 - GAWLER EAST D01252 Disp: 19:26 Br...</td>\n",
       "      <td>G171</td>\n",
       "      <td>2</td>\n",
       "      <td>True</td>\n",
       "      <td>Breathing</td>\n",
       "      <td>GAWLER EAST</td>\n",
       "    </tr>\n",
       "    <tr>\n",
       "      <th>1317</th>\n",
       "      <td>7009740</td>\n",
       "      <td>2024-07-31 19:26:47</td>\n",
       "      <td>P192 PR: 2 - BROMPTON 105 N 15 D01251 Disp: 19...</td>\n",
       "      <td>P192</td>\n",
       "      <td>2</td>\n",
       "      <td>True</td>\n",
       "      <td>Unconsciou</td>\n",
       "      <td>BROMPTON</td>\n",
       "    </tr>\n",
       "    <tr>\n",
       "      <th>1318</th>\n",
       "      <td>7009737</td>\n",
       "      <td>2024-07-31 19:25:46</td>\n",
       "      <td>MG171 PR: 2 - : @EUREKA VILLAGE - MOUNT GAMBIE...</td>\n",
       "      <td>MG171</td>\n",
       "      <td>2</td>\n",
       "      <td>False</td>\n",
       "      <td>Chest Pain</td>\n",
       "      <td>MOUNT GAMBIER</td>\n",
       "    </tr>\n",
       "    <tr>\n",
       "      <th>1319</th>\n",
       "      <td>7009736</td>\n",
       "      <td>2024-07-31 19:25:40</td>\n",
       "      <td>F184 PR: 2 - : H712 1ST MILLSWOOD 130 C 10 D01...</td>\n",
       "      <td>F184</td>\n",
       "      <td>2</td>\n",
       "      <td>True</td>\n",
       "      <td>Breathing</td>\n",
       "      <td>MILLSWOOD</td>\n",
       "    </tr>\n",
       "    <tr>\n",
       "      <th>1320</th>\n",
       "      <td>7009735</td>\n",
       "      <td>2024-07-31 19:25:40</td>\n",
       "      <td>F184 PR: 2 - : H712 1ST MILLSWOOD 130 C 10 D01...</td>\n",
       "      <td>F184</td>\n",
       "      <td>2</td>\n",
       "      <td>True</td>\n",
       "      <td>Breathing</td>\n",
       "      <td>MILLSWOOD</td>\n",
       "    </tr>\n",
       "    <tr>\n",
       "      <th>1321</th>\n",
       "      <td>7009731</td>\n",
       "      <td>2024-07-31 19:23:19</td>\n",
       "      <td>GR192 PR: 2 - : @REGIS PLAYFORD - DAVOREN PARK...</td>\n",
       "      <td>GR192</td>\n",
       "      <td>2</td>\n",
       "      <td>False</td>\n",
       "      <td>Unconsciou</td>\n",
       "      <td>DAVOREN PARK</td>\n",
       "    </tr>\n",
       "    <tr>\n",
       "      <th>1322</th>\n",
       "      <td>7009730</td>\n",
       "      <td>2024-07-31 19:22:44</td>\n",
       "      <td>MV182 PR: 2 - CHRISTIE DOWNS 186 A 4 D01244 Di...</td>\n",
       "      <td>MV182</td>\n",
       "      <td>2</td>\n",
       "      <td>True</td>\n",
       "      <td>Unconsciou</td>\n",
       "      <td>CHRISTIE DOWNS</td>\n",
       "    </tr>\n",
       "  </tbody>\n",
       "</table>\n",
       "</div>"
      ],
      "text/plain": [
       "           id            datetime  \\\n",
       "1313  7009756 2024-07-31 19:36:00   \n",
       "1314  7009749 2024-07-31 19:29:40   \n",
       "1315  7009745 2024-07-31 19:27:38   \n",
       "1316  7009741 2024-07-31 19:26:49   \n",
       "1317  7009740 2024-07-31 19:26:47   \n",
       "1318  7009737 2024-07-31 19:25:46   \n",
       "1319  7009736 2024-07-31 19:25:40   \n",
       "1320  7009735 2024-07-31 19:25:40   \n",
       "1321  7009731 2024-07-31 19:23:19   \n",
       "1322  7009730 2024-07-31 19:22:44   \n",
       "\n",
       "                                                message    unit priority  \\\n",
       "1313  PFD192 PR: 2 - RIVERLEA PARK 38 K 1 D01261 Dis...  PFD192        2   \n",
       "1314  N182 PR: 3 - : @SAPOL - STURT POLICE STATION: ...    N182        3   \n",
       "1315  BE171 PR: 6 - BERRI SBI 1 E 6 D01253 Disp: 19:...   BE171        6   \n",
       "1316  G171 PR: 2 - GAWLER EAST D01252 Disp: 19:26 Br...    G171        2   \n",
       "1317  P192 PR: 2 - BROMPTON 105 N 15 D01251 Disp: 19...    P192        2   \n",
       "1318  MG171 PR: 2 - : @EUREKA VILLAGE - MOUNT GAMBIE...   MG171        2   \n",
       "1319  F184 PR: 2 - : H712 1ST MILLSWOOD 130 C 10 D01...    F184        2   \n",
       "1320  F184 PR: 2 - : H712 1ST MILLSWOOD 130 C 10 D01...    F184        2   \n",
       "1321  GR192 PR: 2 - : @REGIS PLAYFORD - DAVOREN PARK...   GR192        2   \n",
       "1322  MV182 PR: 2 - CHRISTIE DOWNS 186 A 4 D01244 Di...   MV182        2   \n",
       "\n",
       "      residential  description  matched_suburb  \n",
       "1313         True   Burns (Sca   RIVERLEA PARK  \n",
       "1314        False   OTHER EMER           STURT  \n",
       "1315         True   Psychiatri           BERRI  \n",
       "1316         True    Breathing     GAWLER EAST  \n",
       "1317         True   Unconsciou        BROMPTON  \n",
       "1318        False   Chest Pain   MOUNT GAMBIER  \n",
       "1319         True    Breathing       MILLSWOOD  \n",
       "1320         True    Breathing       MILLSWOOD  \n",
       "1321        False   Unconsciou    DAVOREN PARK  \n",
       "1322         True   Unconsciou  CHRISTIE DOWNS  "
      ]
     },
     "execution_count": 30,
     "metadata": {},
     "output_type": "execute_result"
    }
   ],
   "source": [
    "# test the function on all 2000 rows, then export as CSV to eyeball the results\n",
    "df = import_extract_saas_messages(filepath='sample_messages.csv')\n",
    "df.tail(10)"
   ]
  },
  {
   "cell_type": "code",
   "execution_count": 31,
   "id": "cdf84faf-6899-4c03-956e-85f8b1af49d6",
   "metadata": {},
   "outputs": [
    {
     "name": "stdout",
     "output_type": "stream",
     "text": [
      "<class 'pandas.core.frame.DataFrame'>\n",
      "RangeIndex: 1323 entries, 0 to 1322\n",
      "Data columns (total 8 columns):\n",
      " #   Column          Non-Null Count  Dtype         \n",
      "---  ------          --------------  -----         \n",
      " 0   id              1323 non-null   int64         \n",
      " 1   datetime        1323 non-null   datetime64[ns]\n",
      " 2   message         1323 non-null   object        \n",
      " 3   unit            1323 non-null   object        \n",
      " 4   priority        1323 non-null   object        \n",
      " 5   residential     1323 non-null   bool          \n",
      " 6   description     1323 non-null   object        \n",
      " 7   matched_suburb  1322 non-null   object        \n",
      "dtypes: bool(1), datetime64[ns](1), int64(1), object(5)\n",
      "memory usage: 73.8+ KB\n"
     ]
    }
   ],
   "source": [
    "df.info()"
   ]
  },
  {
   "cell_type": "code",
   "execution_count": 32,
   "id": "0e6b8bc5-f729-4bcf-9747-b0866a7c8a5e",
   "metadata": {},
   "outputs": [
    {
     "data": {
      "text/html": [
       "<div>\n",
       "<style scoped>\n",
       "    .dataframe tbody tr th:only-of-type {\n",
       "        vertical-align: middle;\n",
       "    }\n",
       "\n",
       "    .dataframe tbody tr th {\n",
       "        vertical-align: top;\n",
       "    }\n",
       "\n",
       "    .dataframe thead th {\n",
       "        text-align: right;\n",
       "    }\n",
       "</style>\n",
       "<table border=\"1\" class=\"dataframe\">\n",
       "  <thead>\n",
       "    <tr style=\"text-align: right;\">\n",
       "      <th></th>\n",
       "      <th>id</th>\n",
       "      <th>datetime</th>\n",
       "      <th>message</th>\n",
       "      <th>unit</th>\n",
       "      <th>priority</th>\n",
       "      <th>residential</th>\n",
       "      <th>description</th>\n",
       "      <th>matched_suburb</th>\n",
       "    </tr>\n",
       "  </thead>\n",
       "  <tbody>\n",
       "    <tr>\n",
       "      <th>1155</th>\n",
       "      <td>7010126</td>\n",
       "      <td>2024-08-01 00:17:53</td>\n",
       "      <td>PG171 PR: 7 - : @RV POINT - ROOPENA: RV WY171 ...</td>\n",
       "      <td>PG171</td>\n",
       "      <td>7</td>\n",
       "      <td>False</td>\n",
       "      <td>TRANSFER</td>\n",
       "      <td>None</td>\n",
       "    </tr>\n",
       "  </tbody>\n",
       "</table>\n",
       "</div>"
      ],
      "text/plain": [
       "           id            datetime  \\\n",
       "1155  7010126 2024-08-01 00:17:53   \n",
       "\n",
       "                                                message   unit priority  \\\n",
       "1155  PG171 PR: 7 - : @RV POINT - ROOPENA: RV WY171 ...  PG171        7   \n",
       "\n",
       "      residential description matched_suburb  \n",
       "1155        False    TRANSFER           None  "
      ]
     },
     "execution_count": 32,
     "metadata": {},
     "output_type": "execute_result"
    }
   ],
   "source": [
    "# take a look at the message which didn't match a suburb (one miss from 1,300+ rows is acceptable and can be dealt with at the analysis stage)\n",
    "df[df['matched_suburb'].isnull()]"
   ]
  },
  {
   "cell_type": "code",
   "execution_count": 33,
   "id": "bc7829a5-70b3-46f7-980c-b2503252ae6c",
   "metadata": {},
   "outputs": [],
   "source": [
    "#df.to_csv('sample_extraction.csv', index=False)"
   ]
  }
 ],
 "metadata": {
  "kernelspec": {
   "display_name": "Python 3 (ipykernel)",
   "language": "python",
   "name": "python3"
  },
  "language_info": {
   "codemirror_mode": {
    "name": "ipython",
    "version": 3
   },
   "file_extension": ".py",
   "mimetype": "text/x-python",
   "name": "python",
   "nbconvert_exporter": "python",
   "pygments_lexer": "ipython3",
   "version": "3.9.13"
  }
 },
 "nbformat": 4,
 "nbformat_minor": 5
}
